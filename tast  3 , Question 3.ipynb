{
 "cells": [
  {
   "cell_type": "markdown",
   "id": "c7858116-245b-485f-a891-e571676667c9",
   "metadata": {},
   "source": [
    "\n",
    "Question 3\n",
    "\n",
    "שאלות האמריקאיות\n",
    "\n",
    "שאלה 1 \n",
    "תשובה ב\n",
    "\n",
    "שאלה 2 \n",
    "תשובה ג \n",
    "\n",
    "שאלה 3 \n",
    "תשובה ב\n",
    "\n",
    "שאלה 4 \n",
    "תשובה ג \n",
    "\n",
    "שאלה 5 \n",
    "תשובה ג \n",
    "\n",
    "שאלה 6 \n",
    "תשובה ג\n",
    "\n",
    "שאלה 7 \n",
    "תשובה ד\n",
    "\n",
    "שאלה 8 \n",
    "תשובה ב\n",
    "\n",
    "שאלה 9 \n",
    "תשובה ג \n",
    "\n",
    "שאלה 10 \n",
    "תשובה א \n"
   ]
  }
 ],
 "metadata": {
  "kernelspec": {
   "display_name": "Python 3 (ipykernel)",
   "language": "python",
   "name": "python3"
  },
  "language_info": {
   "codemirror_mode": {
    "name": "ipython",
    "version": 3
   },
   "file_extension": ".py",
   "mimetype": "text/x-python",
   "name": "python",
   "nbconvert_exporter": "python",
   "pygments_lexer": "ipython3",
   "version": "3.13.0"
  }
 },
 "nbformat": 4,
 "nbformat_minor": 5
}
